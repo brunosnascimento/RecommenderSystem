{
 "cells": [
  {
   "cell_type": "code",
   "execution_count": 67,
   "metadata": {},
   "outputs": [
    {
     "name": "stdout",
     "output_type": "stream",
     "text": [
      "Old file:  ../../Datasets/movieLens/1M/rating.dat\n",
      "New file:  ../../Datasets/movieLens/1M/rating.csv\n"
     ]
    }
   ],
   "source": [
    "#dataset = '100k/' #100k dataset path\n",
    "dataset = '1M/' #1M dataset path\n",
    "#dataset = '10M/' #10M dataset path\n",
    "#dataset = '20M/' #20M dataset path\n",
    "\n",
    "dataset_path = '../../Datasets/movieLens/' + dataset; # Full dataset path\n",
    "\n",
    "filename = 'rating.dat';\n",
    "new_filename = 'rating.csv'\n",
    "file_path = dataset_path + filename\n",
    "new_file_path = dataset_path + new_filename\n",
    "\n",
    "print \"Old file: \", file_path\n",
    "print \"New file: \", new_file_path"
   ]
  },
  {
   "cell_type": "code",
   "execution_count": 52,
   "metadata": {},
   "outputs": [
    {
     "name": "stdout",
     "output_type": "stream",
     "text": [
      "DATA STYLE:\n",
      "userId,movieId,rating,timestamp\n",
      "\n",
      "196,242,3,881250949\n",
      "\n"
     ]
    }
   ],
   "source": [
    "print \"DATA STYLE:\"\n",
    "\n",
    "fin = open('../../Datasets/movieLens/100k/rating.csv','r');\n",
    "print fin.readline();\n",
    "print fin.readline();\n",
    "fin.close()"
   ]
  },
  {
   "cell_type": "code",
   "execution_count": 53,
   "metadata": {},
   "outputs": [],
   "source": [
    "with open(file_path) as input_file:\n",
    "    newLines = []\n",
    "    for line in input_file:\n",
    "        newLine = [x.strip() for x in line.split('::')];\n",
    "        if len(newLine) == 4:\n",
    "            newLines.append(newLine)\n",
    "        "
   ]
  },
  {
   "cell_type": "code",
   "execution_count": 54,
   "metadata": {},
   "outputs": [
    {
     "name": "stdout",
     "output_type": "stream",
     "text": [
      "1000209\n",
      "['1', '1193', '5', '978300760']\n"
     ]
    }
   ],
   "source": [
    "print len(newLines)\n",
    "print newLines[0]"
   ]
  },
  {
   "cell_type": "code",
   "execution_count": 61,
   "metadata": {},
   "outputs": [
    {
     "name": "stdout",
     "output_type": "stream",
     "text": [
      "True\n",
      "[*] Removing old file...\n",
      "[+] Old file removed.\n",
      "False\n"
     ]
    }
   ],
   "source": [
    "import os\n",
    "print os.path.exists(new_file_path);\n",
    "if os.path.exists(new_file_path):\n",
    "    print \"[*] Removing old file...\";\n",
    "    os.remove(new_file_path);\n",
    "    print \"[+] Old file removed.\"\n",
    "    \n",
    "print os.path.exists(new_file_path);"
   ]
  },
  {
   "cell_type": "code",
   "execution_count": 62,
   "metadata": {},
   "outputs": [
    {
     "name": "stdout",
     "output_type": "stream",
     "text": [
      "False\n",
      "<open file '../../Datasets/movieLens/1M/rating.csv', mode 'w' at 0x9d1b030>\n",
      "6040,1097,4,956715569\n",
      "\n",
      "True\n"
     ]
    }
   ],
   "source": [
    "print os.path.exists(new_file_path);\n",
    "fout = open(new_file_path,'w');\n",
    "print fout\n",
    "fout.write('userId,movieId,rating,timestamp\\n')\n",
    "for newLine in newLines:\n",
    "    line = str(newLine[0])+','+str(newLine[1])+','+str(newLine[2])+','+str(newLine[3])+'\\n'\n",
    "    fout.write(line);\n",
    "    \n",
    "print line\n",
    "fout.close()\n",
    "print os.path.exists(new_file_path);"
   ]
  },
  {
   "cell_type": "code",
   "execution_count": 66,
   "metadata": {},
   "outputs": [
    {
     "name": "stdout",
     "output_type": "stream",
     "text": [
      "True\n",
      "userId,movieId,rating,timestamp\n",
      "\n",
      "1,1193,5,978300760\n",
      "\n",
      "1,661,3,978302109\n",
      "\n",
      "1,914,3,978301968\n",
      "\n",
      "1,3408,4,978300275\n",
      "\n"
     ]
    }
   ],
   "source": [
    "print os.path.exists(new_file_path);\n",
    "\n",
    "fin = open(new_file_path,'r');\n",
    "print fin.readline();\n",
    "print fin.readline();\n",
    "print fin.readline();\n",
    "print fin.readline();\n",
    "print fin.readline();\n",
    "fin.close()"
   ]
  }
 ],
 "metadata": {
  "kernelspec": {
   "display_name": "Python 2",
   "language": "python",
   "name": "python2"
  },
  "language_info": {
   "codemirror_mode": {
    "name": "ipython",
    "version": 2
   },
   "file_extension": ".py",
   "mimetype": "text/x-python",
   "name": "python",
   "nbconvert_exporter": "python",
   "pygments_lexer": "ipython2",
   "version": "2.7.5"
  }
 },
 "nbformat": 4,
 "nbformat_minor": 2
}
