{
 "cells": [
  {
   "cell_type": "code",
   "execution_count": 17,
   "metadata": {},
   "outputs": [],
   "source": [
    "import sys, os\n",
    "\n",
    "import time\n",
    "import numpy as np\n",
    "import pandas as pd\n",
    "import matplotlib.pyplot as plt\n",
    "\n",
    "from sklearn.model_selection import train_test_split\n",
    "\n",
    "from keras.models import Sequential, load_model\n",
    "from keras.layers import Dense\n",
    "from keras import optimizers\n",
    "from keras.callbacks import ModelCheckpoint, EarlyStopping"
   ]
  },
  {
   "cell_type": "markdown",
   "metadata": {},
   "source": [
    "<h1> Loading the Dataset</h1>"
   ]
  },
  {
   "cell_type": "code",
   "execution_count": 84,
   "metadata": {},
   "outputs": [
    {
     "name": "stdout",
     "output_type": "stream",
     "text": [
      "[Loading Time: 0.304883956909 s] rating.csv Shape:  (1000209, 4)\n"
     ]
    }
   ],
   "source": [
    "#Loading dataset\n",
    "\n",
    "#dataset = '100k/' #100k dataset path\n",
    "dataset = '1M/' #1M dataset path\n",
    "#dataset = '10M/' #10M dataset path\n",
    "#dataset = '20M/' #20M dataset path\n",
    "\n",
    "dataset_path = '../../Datasets/movieLens/' + dataset; # Full dataset path\n",
    "\n",
    "filenames = {'movie': 'movie.csv', 'rating': 'rating.csv'};\n",
    "\n",
    "time_zero = time.time();\n",
    "\n",
    "global df_ratings;\n",
    "df_ratings = pd.read_csv(dataset_path+filenames['rating']);\n",
    "print \"[Loading Time:\",time.time()-time_zero,\"s]\",filenames['rating'],'Shape: ', df_ratings.shape;"
   ]
  },
  {
   "cell_type": "markdown",
   "metadata": {},
   "source": [
    "<h1>Creating Utility Matrix</h1>"
   ]
  },
  {
   "cell_type": "code",
   "execution_count": 85,
   "metadata": {},
   "outputs": [],
   "source": [
    "# Auxiliary Functions\n",
    "global R;\n",
    "global results_path;\n",
    "results_path = './Results/';\n",
    "\n",
    "global usersIds;\n",
    "global moviesIds;\n",
    "\n",
    "def InitializeIds():\n",
    "    global usersIds;\n",
    "    global moviesIds;\n",
    "\n",
    "\n",
    "    usersIds = np.zeros(1);\n",
    "    moviesIds = np.zeros(1);\n",
    "\n",
    "\n",
    "    for count in xrange(len(df_ratings['rating'])):\n",
    "\n",
    "        if df_ratings['userId'][count] in usersIds:\n",
    "            pass;\n",
    "        else:\n",
    "            usersIds = np.append(usersIds, df_ratings['userId'][count]);   \n",
    "\n",
    "        if df_ratings['movieId'][count] in moviesIds:\n",
    "            pass;\n",
    "        else:\n",
    "            moviesIds = np.append(moviesIds, df_ratings['movieId'][count]);\n",
    "            currentMovieId = df_ratings['movieId'][count];\n",
    "\n",
    "\n",
    "def InitializeUtilityMatrix():\n",
    "    InitializeIds();\n",
    "    return np.zeros((usersIds.shape[0], moviesIds.shape[0]));\n",
    "\n",
    "def FillUtilityMatrix():\n",
    "    global R;\n",
    "    for register in xrange(len(df_ratings['userId'])):\n",
    "        userId = df_ratings['userId'][register];\n",
    "        movieId = df_ratings['movieId'][register];\n",
    "\n",
    "        #Getting userIndex from usersIds\n",
    "        #itemindex = numpy.where(array==item) --> Return an array with indexes found\n",
    "        userIndex = np.where(usersIds == userId);\n",
    "        if len(userIndex[0]) == 0: # If userIndex hasn't found any matching user id in usersIds array\n",
    "            print \"UserId\", userId, \"not found in usersIds array.\";\n",
    "            pass;\n",
    "        else:\n",
    "            try:\n",
    "                if len(userIndex[0]) > 1:\n",
    "                    print \"UserId \", userId, \"is double-counted in usersIds.\";\n",
    "                userIndex = userIndex[0][0]; #Get the first occurance of userId match\n",
    "            except IndexError:\n",
    "                print \"Error with user index: \", userIndex[0] ;\n",
    "                pass;\n",
    "\n",
    "\n",
    "        #Getting movieIndex from moviesIds\n",
    "        #itemindex = numpy.where(array==item) --> Return an array with indexes found\n",
    "        movieIndex = np.where(moviesIds == movieId);\n",
    "        if len(movieIndex[0]) == 0: # If userIndex hasn't found any matching user id in usersIds array\n",
    "            print \"MovieId\", movieId, \"not found in usersIds array.\";\n",
    "            pass;\n",
    "        else:\n",
    "            try:\n",
    "                if len(movieIndex[0]) > 1:\n",
    "                    print \"MovieId \", movieId, \"is double-counted in moviesIds.\";\n",
    "                movieIndex = movieIndex[0][0]; #Get the first occurance of movieId match\n",
    "            except IndexError:\n",
    "                print \"Error with movie index: \", movieIndex[0] ;\n",
    "                pass;            \n",
    "\n",
    "        R[userIndex][movieIndex] = df_ratings['rating'][register];\n",
    "        \n",
    "    return R;\n",
    "\n",
    "def saveVariable(filename, variable):\n",
    "    \n",
    "    compression_parameter = 9;\n",
    "    \n",
    "    filepath = results_path+\"Variables/\"+dataset+filename;\n",
    "    print \"[*] Saving variable to \" + filepath + \" file...\";\n",
    "    if os.path.isfile(filepath): #Check if file already exists\n",
    "        print \"[*] Removing existing file...\";\n",
    "        os.remove(filepath);\n",
    "        print \"[+] Existing file removed.\";    \n",
    "\n",
    "    #joblib.dump(value, filename, compress=0, protocol=None, cache_size=None)\n",
    "    joblib.dump(variable, filepath, compress = compression_parameter);\n",
    "    print \"[+] File saved.\";   \n"
   ]
  },
  {
   "cell_type": "code",
   "execution_count": 86,
   "metadata": {},
   "outputs": [
    {
     "name": "stdout",
     "output_type": "stream",
     "text": [
      "(6041, 3707)\n"
     ]
    }
   ],
   "source": [
    "time_zero = time.time();\n",
    "global R;\n",
    "R = InitializeUtilityMatrix();\n",
    "\n",
    "print \"Elapsed time: \", time.time()-time_zero;\n",
    "\n",
    "R = FillUtilityMatrix();\n",
    "\n",
    "print R.shape\n",
    "print \"Elapsed time: \", time.time()-time_zero;"
   ]
  },
  {
   "cell_type": "code",
   "execution_count": 87,
   "metadata": {},
   "outputs": [
    {
     "name": "stdout",
     "output_type": "stream",
     "text": [
      "[*] Saving results to./Results/Figures/1M/ folder...\n",
      "[+] Results saved.\n",
      "Elapsed time:  0.741940975189\n"
     ]
    },
    {
     "data": {
      "image/png": "[encoded data removed]",
      "text/plain": [
       "<matplotlib.figure.Figure at 0x22dc5d0>"
      ]
     },
     "metadata": {},
     "output_type": "display_data"
    }
   ],
   "source": [
    "# Visualizing Matrix Sparsity\n",
    "time_zero = time.time();\n",
    "\n",
    "%matplotlib inline\n",
    "\n",
    "#OS = calculateOverallSparsityMeasure(R);\n",
    "\n",
    "fig, ax = plt.subplots(figsize = (5,5));\n",
    "\n",
    "ax.spy(R);\n",
    "\n",
    "plt.xlabel(\"Movies - Total \"+str(R.shape[1]-1), fontsize = 10)\n",
    "plt.ylabel(\"Users - Total \"+str(R.shape[0]-1), fontsize = 10)\n",
    "#plt.title(\"OS: \" + str(OS) + '\\n', fontsize = 24)\n",
    "plt.tick_params(axis='both', which='major', labelsize=10)\n",
    "\n",
    "print \"[*] Saving results to\" + results_path + 'Figures/'+dataset + \" folder...\"\n",
    "plt.savefig(results_path+'Figures/'+dataset+'unsortedUtilityMatrix.png')\n",
    "\n",
    "print \"[+] Results saved.\"\n",
    "\n",
    "print \"Elapsed time: \", time.time()-time_zero; # Aprox. 5 s"
   ]
  },
  {
   "cell_type": "markdown",
   "metadata": {},
   "source": [
    "<h1> Reducing Dimensionality </h1>"
   ]
  },
  {
   "cell_type": "code",
   "execution_count": 92,
   "metadata": {},
   "outputs": [
    {
     "name": "stdout",
     "output_type": "stream",
     "text": [
      "(6041, 3707) (3707,) (3707, 3707)\n"
     ]
    }
   ],
   "source": [
    "U,s,V = np.linalg.svd(R, full_matrices = False);\n",
    "\n",
    "print U.shape, s.shape, V.shape"
   ]
  },
  {
   "cell_type": "code",
   "execution_count": 96,
   "metadata": {},
   "outputs": [
    {
     "name": "stdout",
     "output_type": "stream",
     "text": [
      "(3707, 3707)\n"
     ]
    }
   ],
   "source": [
    "S = np.zeros((s.shape[0], s.shape[0]))\n",
    "\n",
    "S = np.diag(s)\n",
    "print S.shape"
   ]
  },
  {
   "cell_type": "code",
   "execution_count": 97,
   "metadata": {},
   "outputs": [
    {
     "name": "stdout",
     "output_type": "stream",
     "text": [
      "True\n"
     ]
    }
   ],
   "source": [
    "\n",
    "print np.allclose(R, np.dot(U, np.dot(S,V)))"
   ]
  },
  {
   "cell_type": "code",
   "execution_count": null,
   "metadata": {},
   "outputs": [],
   "source": []
  },
  {
   "cell_type": "markdown",
   "metadata": {},
   "source": [
    "<h1>Creating Training and Testing Dataset</h1>"
   ]
  },
  {
   "cell_type": "code",
   "execution_count": 89,
   "metadata": {},
   "outputs": [
    {
     "name": "stdout",
     "output_type": "stream",
     "text": [
      "(4530, 3707) [ 0.749875848369 ]\n",
      "(1511, 3707) [ 0.250124151631 ]\n"
     ]
    }
   ],
   "source": [
    "x_train, x_test = train_test_split(R);\n",
    "print x_train.shape, '[',float(x_train.shape[0])/R.shape[0],']';\n",
    "print x_test.shape, '[', float(x_test.shape[0])/R.shape[0],']';\n",
    "\n",
    "#x_train, x_test = train_test_split(S);\n",
    "\n",
    "#print x_train.shape, '[',float(x_train.shape[0])/S.shape[1],']';\n",
    "#print x_test.shape, '[', float(x_test.shape[0])/S.shape[1],']';"
   ]
  },
  {
   "cell_type": "markdown",
   "metadata": {},
   "source": [
    "<h1>Creation and Initialization of a Single Hidder Layer Autoencoder</h1>"
   ]
  },
  {
   "cell_type": "code",
   "execution_count": 91,
   "metadata": {},
   "outputs": [
    {
     "name": "stdout",
     "output_type": "stream",
     "text": [
      "_________________________________________________________________\n",
      "Layer (type)                 Output Shape              Param #   \n",
      "=================================================================\n",
      "dense_24 (Dense)             (None, 10)                37080     \n",
      "_________________________________________________________________\n",
      "dense_25 (Dense)             (None, 3707)              40777     \n",
      "=================================================================\n",
      "Total params: 77,857\n",
      "Trainable params: 77,857\n",
      "Non-trainable params: 0\n",
      "_________________________________________________________________\n"
     ]
    }
   ],
   "source": [
    "num_neurons = 10\n",
    "\n",
    "inputDim = x_train.shape[1] #Number of items\n",
    "\n",
    "autoencoder = Sequential([\n",
    "                          Dense(num_neurons, activation = 'selu', kernel_initializer = 'uniform', input_dim = inputDim),\n",
    "                          Dense(inputDim, activation = 'tanh', kernel_initializer = 'uniform')\n",
    "                         ])\n",
    "\n",
    "#SGD = optimizers.SGD(lr=0.5, momentum=0.00, decay=0.0, nesterov=False)\n",
    "\n",
    "autoencoder.compile(optimizer = 'adam', loss='mse', metrics=['accuracy', 'mae'])\n",
    "autoencoder.summary()"
   ]
  },
  {
   "cell_type": "markdown",
   "metadata": {},
   "source": [
    "<h1>Fitting the Model to Data</h1>"
   ]
  },
  {
   "cell_type": "code",
   "execution_count": 77,
   "metadata": {},
   "outputs": [
    {
     "name": "stdout",
     "output_type": "stream",
     "text": [
      "Time to fit model: 1.28046798706 seconds\n"
     ]
    }
   ],
   "source": [
    "earlyStopping = EarlyStopping(monitor = 'val_loss', patience = 10, mode = 'auto')\n",
    "\n",
    "time_zero = time.time()\n",
    "\n",
    "fitHistory = autoencoder.fit(x_train, \n",
    "                             x_train, \n",
    "                             epochs = 2000,\n",
    "                             verbose = 0,\n",
    "                             shuffle = True,\n",
    "                             validation_data = (x_test, x_test), \n",
    "                             callbacks = [earlyStopping])\n",
    "\n",
    "print('Time to fit model: '+str(time.time()-time_zero)+' seconds')"
   ]
  },
  {
   "cell_type": "markdown",
   "metadata": {},
   "source": [
    "<h1>Visualizing Training History</h1>"
   ]
  },
  {
   "cell_type": "code",
   "execution_count": 78,
   "metadata": {},
   "outputs": [
    {
     "data": {
      "text/plain": [
       "<matplotlib.legend.Legend at 0xac608d0>"
      ]
     },
     "execution_count": 78,
     "metadata": {},
     "output_type": "execute_result"
    },
    {
     "data": {
      "image/png": "[encoded data removed]",
      "text/plain": [
       "<matplotlib.figure.Figure at 0x9bd1c90>"
      ]
     },
     "metadata": {},
     "output_type": "display_data"
    }
   ],
   "source": [
    "%matplotlib inline\n",
    "fig, (ax1, ax2) = plt.subplots(figsize = (20,10), nrows = 1, ncols = 2)\n",
    "\n",
    "ax1.set_title('RMSE per epoch')\n",
    "ax1.set_xlabel('Epoch')\n",
    "ax1.set_ylabel('RMSE')\n",
    "trainingSet_1, = ax1.plot(np.sqrt(fitHistory.history['loss']), 'b', label = 'trainig set')\n",
    "\n",
    "validationSet_1, = ax1.plot(np.sqrt(fitHistory.history['val_loss']), 'r', label = 'validation set')\n",
    "\n",
    "ax1.legend(handles=[trainingSet_1, validationSet_1], labels=['training set', 'validation set'], prop={'size': 15})\n",
    "\n",
    "\n",
    "ax2.set_title('Accuracy per epoch')\n",
    "ax2.set_xlabel('Epoch')\n",
    "ax1.set_ylabel('Accuracy')\n",
    "trainingSet_2, = ax2.plot(fitHistory.history['acc'], 'b', label = 'training set')\n",
    "\n",
    "validationSet_2, = ax2.plot(fitHistory.history['val_acc'], 'r', label = 'validation set')\n",
    "\n",
    "ax2.legend(handles=[trainingSet_2, validationSet_2], labels=['training set', 'validation set'], prop={'size': 15})\n",
    "\n",
    "\n",
    "\n",
    "\n",
    "#fig.savefig('{}/{}.{}'.format(saveFigDir, 'RMSE_per_epoch_autoencoder_30_40', 'pdf'), bbox_inches='tight')"
   ]
  }
 ],
 "metadata": {
  "kernelspec": {
   "display_name": "Python 2",
   "language": "python",
   "name": "python2"
  },
  "language_info": {
   "codemirror_mode": {
    "name": "ipython",
    "version": 2
   },
   "file_extension": ".py",
   "mimetype": "text/x-python",
   "name": "python",
   "nbconvert_exporter": "python",
   "pygments_lexer": "ipython2",
   "version": "2.7.5"
  }
 },
 "nbformat": 4,
 "nbformat_minor": 2
}
