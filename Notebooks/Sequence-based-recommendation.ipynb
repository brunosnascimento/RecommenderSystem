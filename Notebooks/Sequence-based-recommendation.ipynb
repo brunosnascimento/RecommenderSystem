{
 "cells": [
  {
   "cell_type": "markdown",
   "metadata": {},
   "source": [
    "# Sequence Based Recommendations Module"
   ]
  },
  {
   "cell_type": "markdown",
   "metadata": {},
   "source": [
    "- This notebook aims to show how to use sequence-based-recommendation module created by Robin Devooght. Some of these functions have been utilized in recent papers provided by the authors tackling sequence-based recommender systems \n",
    "\n",
    "<par>All code can be accessed in https://github.com/rdevooght/sequence-based-recommendations but a few modifications have been made</par>"
   ]
  },
  {
   "cell_type": "code",
   "execution_count": 1,
   "metadata": {},
   "outputs": [],
   "source": [
    "#Importing libraries\n",
    "import numpy as np\n",
    "import pandas as pd\n",
    "import matplotlib.pyplot as plt\n",
    "import time\n",
    "import joblib\n",
    "import os.path\n",
    "import sys\n",
    "sources_path = './../Sources'\n",
    "if sources_path not in sys.path:\n",
    "    sys.path.append(sources_path)\n",
    "import Devooght.preprocess as preprocess\n",
    "\n",
    "#from Evaluations.metrics import MSE, RMSE, MAE\n",
    "import os\n",
    "#sys.path.append('../Sources') # Adding my own libs source\n",
    "#from StackedAutoEncoderRS.SAERS import SAE"
   ]
  },
  {
   "cell_type": "code",
   "execution_count": 17,
   "metadata": {},
   "outputs": [],
   "source": [
    "%matplotlib inline\n",
    "results_path = './Results/'\n",
    "verbose = True"
   ]
  },
  {
   "cell_type": "markdown",
   "metadata": {},
   "source": [
    "## Loading Dataset"
   ]
  },
  {
   "cell_type": "code",
   "execution_count": 23,
   "metadata": {},
   "outputs": [
    {
     "name": "stdout",
     "output_type": "stream",
     "text": [
      "[*] Loading data...\n",
      "\tSorting timestamp column\n",
      "\tSort data in chronological order\n",
      "[+] Data Loaded\n",
      "       userId  itemId  rating           timestamp\n",
      "214       259     255       4 1997-09-20 03:05:10\n",
      "83965     259     286       4 1997-09-20 03:05:27\n",
      "43027     259     298       4 1997-09-20 03:05:54\n",
      "21396     259     185       4 1997-09-20 03:06:21\n",
      "82655     259     173       4 1997-09-20 03:07:23\n",
      "CPU times: user 43.7 ms, sys: 444 µs, total: 44.1 ms\n",
      "Wall time: 41.1 ms\n"
     ]
    }
   ],
   "source": [
    "%%time\n",
    "reload(preprocess)\n",
    "\n",
    "dataset = '100k/' #100k dataset path\n",
    "#dataset = '10M/' #10M dataset path\n",
    "#dataset = '20M/' #20M dataset path\n",
    "\n",
    "dataset_path = '../../Datasets/movieLens/' + dataset; # Full dataset path\n",
    "\n",
    "filenames = {'movie': 'movie.csv', 'rating': 'rating.csv'}\n",
    "\n",
    "df_ratings = preprocess.load_data(filename = dataset_path+filenames['rating'], \n",
    "                       columns = ['userId', 'itemId', 'rating', 'timestamp'], \n",
    "                       separator = ',',\n",
    "                        verbose = True)\n"
   ]
  },
  {
   "cell_type": "markdown",
   "metadata": {},
   "source": [
    "## Preprocessing "
   ]
  },
  {
   "cell_type": "markdown",
   "metadata": {},
   "source": [
    "* Creating Auxiliary Directories"
   ]
  },
  {
   "cell_type": "code",
   "execution_count": 27,
   "metadata": {},
   "outputs": [
    {
     "name": "stdout",
     "output_type": "stream",
     "text": [
      "./Sequence_based_recommendation_files\n",
      "CPU times: user 1 ms, sys: 0 ns, total: 1 ms\n",
      "Wall time: 2.94 ms\n"
     ]
    }
   ],
   "source": [
    "%%time\n",
    "reload(preprocess)\n",
    "\n",
    "directory_path = os.path.join('.', 'Sequence_based_recommendation_files')\n",
    "print (directory_path)\n",
    "#preprocess.create_dirs(dirname=)"
   ]
  }
 ],
 "metadata": {
  "kernelspec": {
   "display_name": "Python 2",
   "language": "python",
   "name": "python2"
  },
  "language_info": {
   "codemirror_mode": {
    "name": "ipython",
    "version": 2
   },
   "file_extension": ".py",
   "mimetype": "text/x-python",
   "name": "python",
   "nbconvert_exporter": "python",
   "pygments_lexer": "ipython2",
   "version": "2.7.5"
  }
 },
 "nbformat": 4,
 "nbformat_minor": 2
}
